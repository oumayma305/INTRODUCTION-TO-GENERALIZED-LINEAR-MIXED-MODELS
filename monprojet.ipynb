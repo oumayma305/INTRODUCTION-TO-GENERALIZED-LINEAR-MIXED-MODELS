{
 "cells": [
  {
   "cell_type": "code",
   "execution_count": 1,
   "metadata": {},
   "outputs": [],
   "source": [
    "import numpy as np # Importe les fonctions de numpy\n",
    "from numpy.random import normal as  norm # Import juste une fonction de numpy pour simplifier son nom par norm\n",
    "from numpy import sqrt as  sqrt # Import juste une fonction de numpy pour simplifier son nom par sqrt\n",
    "from random import Random\n",
    "\n",
    "nb = 8525 # Nombre d'individus\n",
    "Age = np.round(norm(size = nb,loc = 54,scale = 11),0) \n",
    "WBC = norm(size = nb,loc = 6000,scale = 9)# Simuations de WBC autour de 6000\n",
    "Intercept=[1]*8525\n",
    "RBC = norm(size = nb,loc = 4.6,scale = 2)\n",
    "sex = np.random.randint(2, size=nb)\n",
    "Married=np.random.randint(2, size=nb)\n",
    "y=np.random.randint(2,4,8525)"
   ]
  },
  {
   "cell_type": "code",
   "execution_count": 2,
   "metadata": {},
   "outputs": [
    {
     "data": {
      "text/html": [
       "<div>\n",
       "<style scoped>\n",
       "    .dataframe tbody tr th:only-of-type {\n",
       "        vertical-align: middle;\n",
       "    }\n",
       "\n",
       "    .dataframe tbody tr th {\n",
       "        vertical-align: top;\n",
       "    }\n",
       "\n",
       "    .dataframe thead th {\n",
       "        text-align: right;\n",
       "    }\n",
       "</style>\n",
       "<table border=\"1\" class=\"dataframe\">\n",
       "  <thead>\n",
       "    <tr style=\"text-align: right;\">\n",
       "      <th></th>\n",
       "      <th>Intercept</th>\n",
       "      <th>Age</th>\n",
       "      <th>Married</th>\n",
       "      <th>sex</th>\n",
       "      <th>WBC</th>\n",
       "      <th>RBC</th>\n",
       "      <th>y</th>\n",
       "    </tr>\n",
       "  </thead>\n",
       "  <tbody>\n",
       "    <tr>\n",
       "      <th>0</th>\n",
       "      <td>1</td>\n",
       "      <td>62.0</td>\n",
       "      <td>1</td>\n",
       "      <td>1</td>\n",
       "      <td>5984.774478</td>\n",
       "      <td>4.410777</td>\n",
       "      <td>3</td>\n",
       "    </tr>\n",
       "    <tr>\n",
       "      <th>1</th>\n",
       "      <td>1</td>\n",
       "      <td>59.0</td>\n",
       "      <td>0</td>\n",
       "      <td>1</td>\n",
       "      <td>5986.337158</td>\n",
       "      <td>3.901267</td>\n",
       "      <td>3</td>\n",
       "    </tr>\n",
       "    <tr>\n",
       "      <th>2</th>\n",
       "      <td>1</td>\n",
       "      <td>55.0</td>\n",
       "      <td>1</td>\n",
       "      <td>1</td>\n",
       "      <td>5994.767510</td>\n",
       "      <td>0.490396</td>\n",
       "      <td>3</td>\n",
       "    </tr>\n",
       "    <tr>\n",
       "      <th>3</th>\n",
       "      <td>1</td>\n",
       "      <td>59.0</td>\n",
       "      <td>0</td>\n",
       "      <td>0</td>\n",
       "      <td>6009.899252</td>\n",
       "      <td>3.237278</td>\n",
       "      <td>2</td>\n",
       "    </tr>\n",
       "    <tr>\n",
       "      <th>4</th>\n",
       "      <td>1</td>\n",
       "      <td>61.0</td>\n",
       "      <td>0</td>\n",
       "      <td>0</td>\n",
       "      <td>5990.658307</td>\n",
       "      <td>5.659483</td>\n",
       "      <td>3</td>\n",
       "    </tr>\n",
       "    <tr>\n",
       "      <th>...</th>\n",
       "      <td>...</td>\n",
       "      <td>...</td>\n",
       "      <td>...</td>\n",
       "      <td>...</td>\n",
       "      <td>...</td>\n",
       "      <td>...</td>\n",
       "      <td>...</td>\n",
       "    </tr>\n",
       "    <tr>\n",
       "      <th>8520</th>\n",
       "      <td>1</td>\n",
       "      <td>35.0</td>\n",
       "      <td>1</td>\n",
       "      <td>1</td>\n",
       "      <td>6004.342524</td>\n",
       "      <td>2.826003</td>\n",
       "      <td>2</td>\n",
       "    </tr>\n",
       "    <tr>\n",
       "      <th>8521</th>\n",
       "      <td>1</td>\n",
       "      <td>68.0</td>\n",
       "      <td>0</td>\n",
       "      <td>1</td>\n",
       "      <td>6011.992613</td>\n",
       "      <td>4.095995</td>\n",
       "      <td>3</td>\n",
       "    </tr>\n",
       "    <tr>\n",
       "      <th>8522</th>\n",
       "      <td>1</td>\n",
       "      <td>54.0</td>\n",
       "      <td>1</td>\n",
       "      <td>0</td>\n",
       "      <td>6008.933113</td>\n",
       "      <td>4.408397</td>\n",
       "      <td>3</td>\n",
       "    </tr>\n",
       "    <tr>\n",
       "      <th>8523</th>\n",
       "      <td>1</td>\n",
       "      <td>42.0</td>\n",
       "      <td>1</td>\n",
       "      <td>1</td>\n",
       "      <td>6010.741929</td>\n",
       "      <td>5.251219</td>\n",
       "      <td>2</td>\n",
       "    </tr>\n",
       "    <tr>\n",
       "      <th>8524</th>\n",
       "      <td>1</td>\n",
       "      <td>45.0</td>\n",
       "      <td>1</td>\n",
       "      <td>0</td>\n",
       "      <td>6009.173548</td>\n",
       "      <td>3.494004</td>\n",
       "      <td>2</td>\n",
       "    </tr>\n",
       "  </tbody>\n",
       "</table>\n",
       "<p>8525 rows × 7 columns</p>\n",
       "</div>"
      ],
      "text/plain": [
       "      Intercept   Age  Married  sex          WBC       RBC  y\n",
       "0             1  62.0        1    1  5984.774478  4.410777  3\n",
       "1             1  59.0        0    1  5986.337158  3.901267  3\n",
       "2             1  55.0        1    1  5994.767510  0.490396  3\n",
       "3             1  59.0        0    0  6009.899252  3.237278  2\n",
       "4             1  61.0        0    0  5990.658307  5.659483  3\n",
       "...         ...   ...      ...  ...          ...       ... ..\n",
       "8520          1  35.0        1    1  6004.342524  2.826003  2\n",
       "8521          1  68.0        0    1  6011.992613  4.095995  3\n",
       "8522          1  54.0        1    0  6008.933113  4.408397  3\n",
       "8523          1  42.0        1    1  6010.741929  5.251219  2\n",
       "8524          1  45.0        1    0  6009.173548  3.494004  2\n",
       "\n",
       "[8525 rows x 7 columns]"
      ]
     },
     "execution_count": 2,
     "metadata": {},
     "output_type": "execute_result"
    }
   ],
   "source": [
    "import pandas as df # Importation de pandas pour la gestion des tableaux de données (dataframes)\n",
    "from pandas import DataFrame as DataFrame # Importation uniquement de la fonction DataFrame pour réduire son écriture\n",
    "compil = {'Intercept':Intercept,'Age':Age,'Married':Married,'sex':sex,'WBC':WBC,'RBC':RBC,'y':y}\n",
    "compil = DataFrame(compil)\n",
    "compil"
   ]
  },
  {
   "cell_type": "code",
   "execution_count": 3,
   "metadata": {},
   "outputs": [
    {
     "data": {
      "text/html": [
       "<div>\n",
       "<style scoped>\n",
       "    .dataframe tbody tr th:only-of-type {\n",
       "        vertical-align: middle;\n",
       "    }\n",
       "\n",
       "    .dataframe tbody tr th {\n",
       "        vertical-align: top;\n",
       "    }\n",
       "\n",
       "    .dataframe thead th {\n",
       "        text-align: right;\n",
       "    }\n",
       "</style>\n",
       "<table border=\"1\" class=\"dataframe\">\n",
       "  <thead>\n",
       "    <tr style=\"text-align: right;\">\n",
       "      <th></th>\n",
       "      <th>Intercept</th>\n",
       "      <th>Age</th>\n",
       "      <th>Married</th>\n",
       "      <th>sex</th>\n",
       "      <th>WBC</th>\n",
       "      <th>RBC</th>\n",
       "      <th>y</th>\n",
       "    </tr>\n",
       "  </thead>\n",
       "  <tbody>\n",
       "    <tr>\n",
       "      <th>count</th>\n",
       "      <td>8525.0</td>\n",
       "      <td>8525.000000</td>\n",
       "      <td>8525.000000</td>\n",
       "      <td>8525.000000</td>\n",
       "      <td>8525.000000</td>\n",
       "      <td>8525.000000</td>\n",
       "      <td>8525.000000</td>\n",
       "    </tr>\n",
       "    <tr>\n",
       "      <th>mean</th>\n",
       "      <td>1.0</td>\n",
       "      <td>54.087507</td>\n",
       "      <td>0.498182</td>\n",
       "      <td>0.490674</td>\n",
       "      <td>5999.919254</td>\n",
       "      <td>4.579740</td>\n",
       "      <td>2.501349</td>\n",
       "    </tr>\n",
       "    <tr>\n",
       "      <th>std</th>\n",
       "      <td>0.0</td>\n",
       "      <td>11.000196</td>\n",
       "      <td>0.500026</td>\n",
       "      <td>0.499942</td>\n",
       "      <td>8.845172</td>\n",
       "      <td>2.009176</td>\n",
       "      <td>0.500028</td>\n",
       "    </tr>\n",
       "    <tr>\n",
       "      <th>min</th>\n",
       "      <td>1.0</td>\n",
       "      <td>1.000000</td>\n",
       "      <td>0.000000</td>\n",
       "      <td>0.000000</td>\n",
       "      <td>5967.113953</td>\n",
       "      <td>-4.625485</td>\n",
       "      <td>2.000000</td>\n",
       "    </tr>\n",
       "    <tr>\n",
       "      <th>25%</th>\n",
       "      <td>1.0</td>\n",
       "      <td>47.000000</td>\n",
       "      <td>0.000000</td>\n",
       "      <td>0.000000</td>\n",
       "      <td>5994.014064</td>\n",
       "      <td>3.231917</td>\n",
       "      <td>2.000000</td>\n",
       "    </tr>\n",
       "    <tr>\n",
       "      <th>50%</th>\n",
       "      <td>1.0</td>\n",
       "      <td>54.000000</td>\n",
       "      <td>0.000000</td>\n",
       "      <td>0.000000</td>\n",
       "      <td>6000.074902</td>\n",
       "      <td>4.576084</td>\n",
       "      <td>3.000000</td>\n",
       "    </tr>\n",
       "    <tr>\n",
       "      <th>75%</th>\n",
       "      <td>1.0</td>\n",
       "      <td>62.000000</td>\n",
       "      <td>1.000000</td>\n",
       "      <td>1.000000</td>\n",
       "      <td>6005.820214</td>\n",
       "      <td>5.957925</td>\n",
       "      <td>3.000000</td>\n",
       "    </tr>\n",
       "    <tr>\n",
       "      <th>max</th>\n",
       "      <td>1.0</td>\n",
       "      <td>105.000000</td>\n",
       "      <td>1.000000</td>\n",
       "      <td>1.000000</td>\n",
       "      <td>6034.336317</td>\n",
       "      <td>12.467290</td>\n",
       "      <td>3.000000</td>\n",
       "    </tr>\n",
       "  </tbody>\n",
       "</table>\n",
       "</div>"
      ],
      "text/plain": [
       "       Intercept          Age      Married          sex          WBC  \\\n",
       "count     8525.0  8525.000000  8525.000000  8525.000000  8525.000000   \n",
       "mean         1.0    54.087507     0.498182     0.490674  5999.919254   \n",
       "std          0.0    11.000196     0.500026     0.499942     8.845172   \n",
       "min          1.0     1.000000     0.000000     0.000000  5967.113953   \n",
       "25%          1.0    47.000000     0.000000     0.000000  5994.014064   \n",
       "50%          1.0    54.000000     0.000000     0.000000  6000.074902   \n",
       "75%          1.0    62.000000     1.000000     1.000000  6005.820214   \n",
       "max          1.0   105.000000     1.000000     1.000000  6034.336317   \n",
       "\n",
       "               RBC            y  \n",
       "count  8525.000000  8525.000000  \n",
       "mean      4.579740     2.501349  \n",
       "std       2.009176     0.500028  \n",
       "min      -4.625485     2.000000  \n",
       "25%       3.231917     2.000000  \n",
       "50%       4.576084     3.000000  \n",
       "75%       5.957925     3.000000  \n",
       "max      12.467290     3.000000  "
      ]
     },
     "execution_count": 3,
     "metadata": {},
     "output_type": "execute_result"
    }
   ],
   "source": [
    "compil.describe()"
   ]
  },
  {
   "cell_type": "code",
   "execution_count": 4,
   "metadata": {},
   "outputs": [
    {
     "data": {
      "text/html": [
       "<div>\n",
       "<style scoped>\n",
       "    .dataframe tbody tr th:only-of-type {\n",
       "        vertical-align: middle;\n",
       "    }\n",
       "\n",
       "    .dataframe tbody tr th {\n",
       "        vertical-align: top;\n",
       "    }\n",
       "\n",
       "    .dataframe thead th {\n",
       "        text-align: right;\n",
       "    }\n",
       "</style>\n",
       "<table border=\"1\" class=\"dataframe\">\n",
       "  <thead>\n",
       "    <tr style=\"text-align: right;\">\n",
       "      <th></th>\n",
       "      <th>Intercept</th>\n",
       "      <th>Age</th>\n",
       "      <th>Married</th>\n",
       "      <th>sex</th>\n",
       "      <th>WBC</th>\n",
       "      <th>RBC</th>\n",
       "      <th>y</th>\n",
       "    </tr>\n",
       "  </thead>\n",
       "  <tbody>\n",
       "    <tr>\n",
       "      <th>0</th>\n",
       "      <td>1</td>\n",
       "      <td>62.0</td>\n",
       "      <td>1</td>\n",
       "      <td>1</td>\n",
       "      <td>5984.774478</td>\n",
       "      <td>4.410777</td>\n",
       "      <td>3</td>\n",
       "    </tr>\n",
       "    <tr>\n",
       "      <th>1</th>\n",
       "      <td>1</td>\n",
       "      <td>59.0</td>\n",
       "      <td>0</td>\n",
       "      <td>1</td>\n",
       "      <td>5986.337158</td>\n",
       "      <td>3.901267</td>\n",
       "      <td>3</td>\n",
       "    </tr>\n",
       "    <tr>\n",
       "      <th>2</th>\n",
       "      <td>1</td>\n",
       "      <td>55.0</td>\n",
       "      <td>1</td>\n",
       "      <td>1</td>\n",
       "      <td>5994.767510</td>\n",
       "      <td>0.490396</td>\n",
       "      <td>3</td>\n",
       "    </tr>\n",
       "  </tbody>\n",
       "</table>\n",
       "</div>"
      ],
      "text/plain": [
       "   Intercept   Age  Married  sex          WBC       RBC  y\n",
       "0          1  62.0        1    1  5984.774478  4.410777  3\n",
       "1          1  59.0        0    1  5986.337158  3.901267  3\n",
       "2          1  55.0        1    1  5994.767510  0.490396  3"
      ]
     },
     "execution_count": 4,
     "metadata": {},
     "output_type": "execute_result"
    }
   ],
   "source": [
    "compil[:3]#Afficher les 3 premères lignes du tableau"
   ]
  },
  {
   "cell_type": "markdown",
   "metadata": {},
   "source": [
    "Dans ce qui suit, nous travaillerons principalement avec Poisson. Tout en utilisant les affaires décimales, nous les convertissons en entiers pour avoir une distribution de comptage."
   ]
  },
  {
   "cell_type": "code",
   "execution_count": 5,
   "metadata": {},
   "outputs": [
    {
     "data": {
      "text/html": [
       "<div>\n",
       "<style scoped>\n",
       "    .dataframe tbody tr th:only-of-type {\n",
       "        vertical-align: middle;\n",
       "    }\n",
       "\n",
       "    .dataframe tbody tr th {\n",
       "        vertical-align: top;\n",
       "    }\n",
       "\n",
       "    .dataframe thead th {\n",
       "        text-align: right;\n",
       "    }\n",
       "</style>\n",
       "<table border=\"1\" class=\"dataframe\">\n",
       "  <thead>\n",
       "    <tr style=\"text-align: right;\">\n",
       "      <th></th>\n",
       "      <th>Intercept</th>\n",
       "      <th>Age</th>\n",
       "      <th>Married</th>\n",
       "      <th>sex</th>\n",
       "      <th>WBC</th>\n",
       "      <th>RBC</th>\n",
       "      <th>y</th>\n",
       "    </tr>\n",
       "  </thead>\n",
       "  <tbody>\n",
       "    <tr>\n",
       "      <th>0</th>\n",
       "      <td>1</td>\n",
       "      <td>62.0</td>\n",
       "      <td>1</td>\n",
       "      <td>1</td>\n",
       "      <td>5985.0</td>\n",
       "      <td>5.0</td>\n",
       "      <td>3</td>\n",
       "    </tr>\n",
       "    <tr>\n",
       "      <th>1</th>\n",
       "      <td>1</td>\n",
       "      <td>59.0</td>\n",
       "      <td>0</td>\n",
       "      <td>1</td>\n",
       "      <td>5987.0</td>\n",
       "      <td>4.0</td>\n",
       "      <td>3</td>\n",
       "    </tr>\n",
       "    <tr>\n",
       "      <th>2</th>\n",
       "      <td>1</td>\n",
       "      <td>55.0</td>\n",
       "      <td>1</td>\n",
       "      <td>1</td>\n",
       "      <td>5995.0</td>\n",
       "      <td>1.0</td>\n",
       "      <td>3</td>\n",
       "    </tr>\n",
       "  </tbody>\n",
       "</table>\n",
       "</div>"
      ],
      "text/plain": [
       "   Intercept   Age  Married  sex     WBC  RBC  y\n",
       "0          1  62.0        1    1  5985.0  5.0  3\n",
       "1          1  59.0        0    1  5987.0  4.0  3\n",
       "2          1  55.0        1    1  5995.0  1.0  3"
      ]
     },
     "execution_count": 5,
     "metadata": {},
     "output_type": "execute_result"
    }
   ],
   "source": [
    "compil[\"WBC\"] = np.ceil(compil[\"WBC\"])\n",
    "compil[\"RBC\"] = np.ceil(compil[\"RBC\"])\n",
    "compil[:3]"
   ]
  },
  {
   "cell_type": "code",
   "execution_count": 6,
   "metadata": {},
   "outputs": [
    {
     "data": {
      "text/plain": [
       "0.0"
      ]
     },
     "execution_count": 6,
     "metadata": {},
     "output_type": "execute_result"
    }
   ],
   "source": [
    "(compil[\"y\"] == 0).mean()"
   ]
  },
  {
   "cell_type": "code",
   "execution_count": 7,
   "metadata": {},
   "outputs": [
    {
     "data": {
      "text/plain": [
       "array([   0,    0, 4251, 4274])"
      ]
     },
     "execution_count": 7,
     "metadata": {},
     "output_type": "execute_result"
    }
   ],
   "source": [
    "np.bincount(compil[\"y\"].astype(int))"
   ]
  },
  {
   "cell_type": "code",
   "execution_count": 8,
   "metadata": {},
   "outputs": [
    {
     "name": "stdout",
     "output_type": "stream",
     "text": [
      "                 Generalized Linear Model Regression Results                  \n",
      "==============================================================================\n",
      "Dep. Variable:                      y   No. Observations:                 8525\n",
      "Model:                            GLM   Df Residuals:                     8519\n",
      "Model Family:                 Poisson   Df Model:                            5\n",
      "Link Function:                    log   Scale:                          1.0000\n",
      "Method:                          IRLS   Log-Likelihood:                -12378.\n",
      "Date:                Sun, 08 Nov 2020   Deviance:                       857.41\n",
      "Time:                        13:43:33   Pearson chi2:                     851.\n",
      "No. Iterations:                     4                                         \n",
      "Covariance Type:            nonrobust                                         \n",
      "==============================================================================\n",
      "                 coef    std err          z      P>|z|      [0.025      0.975]\n",
      "------------------------------------------------------------------------------\n",
      "Intercept     -1.6757      4.646     -0.361      0.718     -10.782       7.431\n",
      "sex           -0.0037      0.014     -0.268      0.789      -0.031       0.023\n",
      "Age         3.747e-05      0.001      0.060      0.952      -0.001       0.001\n",
      "Married       -0.0023      0.014     -0.170      0.865      -0.029       0.025\n",
      "WBC            0.0004      0.001      0.560      0.575      -0.001       0.002\n",
      "RBC           -0.0018      0.003     -0.539      0.590      -0.008       0.005\n",
      "==============================================================================\n"
     ]
    }
   ],
   "source": [
    "data=compil\n",
    "import statsmodels.formula.api as smf\n",
    "import statsmodels.api as sm\n",
    "glm = smf.glm('y ~ sex + Age + Married+WBC+RBC',\n",
    "              data=data, family=sm.families.Poisson())\n",
    "\n",
    "res_o = glm.fit()\n",
    "print(res_o.summary())"
   ]
  },
  {
   "cell_type": "code",
   "execution_count": 9,
   "metadata": {},
   "outputs": [
    {
     "data": {
      "text/plain": [
       "0.09993624131189242"
      ]
     },
     "execution_count": 9,
     "metadata": {},
     "output_type": "execute_result"
    }
   ],
   "source": [
    "res_o.pearson_chi2 / res_o.df_resid"
   ]
  },
  {
   "cell_type": "code",
   "execution_count": 10,
   "metadata": {},
   "outputs": [
    {
     "name": "stdout",
     "output_type": "stream",
     "text": [
      "            Mixed Linear Model Regression Results\n",
      "=============================================================\n",
      "Model:               MixedLM  Dependent Variable:  y         \n",
      "No. Observations:    8525     Method:              REML      \n",
      "No. Groups:          1        Scale:               0.2501    \n",
      "Min. group size:     8525     Log-Likelihood:      -6224.0023\n",
      "Max. group size:     8525     Converged:           Yes       \n",
      "Mean group size:     8525.0                                  \n",
      "-------------------------------------------------------------\n",
      "                Coef.    Std.Err.    z    P>|z| [0.025 0.975]\n",
      "-------------------------------------------------------------\n",
      "Intercept        2.544       0.503  5.056 0.000  1.558  3.530\n",
      "sex             -0.103       0.077 -1.335 0.182 -0.253  0.048\n",
      "Married         -0.046       0.076 -0.608 0.543 -0.196  0.103\n",
      "sex:Married      0.105       0.109  0.968 0.333 -0.108  0.319\n",
      "Age             -0.001       0.001 -0.731 0.465 -0.003  0.001\n",
      "sex:Age          0.002       0.001  1.353 0.176 -0.001  0.005\n",
      "Married:Age      0.001       0.001  0.650 0.516 -0.002  0.004\n",
      "sex:Married:Age -0.002       0.002 -1.144 0.253 -0.006  0.002\n",
      "Group Var        0.250 3588063.260                           \n",
      "=============================================================\n",
      "\n"
     ]
    }
   ],
   "source": [
    "import statsmodels.formula.api as smf\n",
    "from patsy import dmatrices\n",
    "formula = \"y ~ sex*Married*Age\"\n",
    "md  = smf.mixedlm(formula, compil, groups=compil[\"Intercept\"])\n",
    "mdf = md.fit()\n",
    "print(mdf.summary())"
   ]
  },
  {
   "cell_type": "code",
   "execution_count": 11,
   "metadata": {},
   "outputs": [
    {
     "name": "stdout",
     "output_type": "stream",
     "text": [
      "          Mixed Linear Model Regression Results\n",
      "=========================================================\n",
      "Model:             MixedLM Dependent Variable: y         \n",
      "No. Observations:  8525    Method:             REML      \n",
      "No. Groups:        1       Scale:              0.2499    \n",
      "Min. group size:   8525    Log-Likelihood:     -6206.3716\n",
      "Max. group size:   8525    Converged:          Yes       \n",
      "Mean group size:   8525.0                                \n",
      "---------------------------------------------------------\n",
      "           Coef.    Std.Err.    z    P>|z|  [0.025 0.975]\n",
      "---------------------------------------------------------\n",
      "Intercept -16.435       9.875 -1.664 0.096 -35.789  2.919\n",
      "WBC         0.003       0.002  1.923 0.055  -0.000  0.006\n",
      "RBC         2.440       1.799  1.357 0.175  -1.085  5.965\n",
      "WBC:RBC    -0.000       0.000 -1.359 0.174  -0.001  0.000\n",
      "Group Var   0.250 1118891.307                            \n",
      "=========================================================\n",
      "\n"
     ]
    }
   ],
   "source": [
    "import statsmodels.formula.api as smf\n",
    "from patsy import dmatrices\n",
    "formula = \"y ~ WBC*RBC\"\n",
    "md  = smf.mixedlm(formula, compil, groups=compil[\"Intercept\"])\n",
    "mdf = md.fit()\n",
    "print(mdf.summary())"
   ]
  },
  {
   "cell_type": "code",
   "execution_count": 13,
   "metadata": {},
   "outputs": [],
   "source": [
    "import pandas as pd\n",
    "fe_params = pd.DataFrame(mdf.fe_params,columns=['LMM'])\n",
    "random_effects = pd.DataFrame(mdf.random_effects)\n",
    "random_effects = random_effects.transpose()\n",
    "random_effects = random_effects.rename(index=str, columns={'groups': 'LMM'})"
   ]
  },
  {
   "cell_type": "code",
   "execution_count": 14,
   "metadata": {},
   "outputs": [],
   "source": [
    "Y, X   = dmatrices(formula, data=compil, return_type='matrix')\n",
    "Terms  = X.design_info.column_names\n",
    "_, Z   = dmatrices('y ~ -1+RBC+WBC+Age+sex+Married', data=compil, return_type='matrix')\n",
    "\n",
    "X      = np.asarray(X) # fixed effect\n",
    "Z      = np.asarray(Z) # mixed effect\n",
    "Y      = np.asarray(Y).flatten()\n",
    "nfixed = np.shape(X)\n",
    "nrandm = np.shape(Z)"
   ]
  },
  {
   "cell_type": "code",
   "execution_count": 17,
   "metadata": {},
   "outputs": [
    {
     "ename": "AttributeError",
     "evalue": "'Index' object has no attribute 'get_values'",
     "output_type": "error",
     "traceback": [
      "\u001b[0;31m---------------------------------------------------------------------------\u001b[0m",
      "\u001b[0;31mAttributeError\u001b[0m                            Traceback (most recent call last)",
      "\u001b[0;32m<ipython-input-17-fb072ecd9459>\u001b[0m in \u001b[0;36m<module>\u001b[0;34m\u001b[0m\n\u001b[1;32m     19\u001b[0m     \u001b[0mplt\u001b[0m\u001b[0;34m.\u001b[0m\u001b[0mshow\u001b[0m\u001b[0;34m(\u001b[0m\u001b[0;34m)\u001b[0m\u001b[0;34m\u001b[0m\u001b[0;34m\u001b[0m\u001b[0m\n\u001b[1;32m     20\u001b[0m \u001b[0;34m\u001b[0m\u001b[0m\n\u001b[0;32m---> 21\u001b[0;31m \u001b[0mplotfitted\u001b[0m\u001b[0;34m(\u001b[0m\u001b[0mfe_params\u001b[0m\u001b[0;34m=\u001b[0m\u001b[0mfe_params\u001b[0m\u001b[0;34m,\u001b[0m\u001b[0mrandom_effects\u001b[0m\u001b[0;34m=\u001b[0m\u001b[0mrandom_effects\u001b[0m\u001b[0;34m,\u001b[0m\u001b[0mX\u001b[0m\u001b[0;34m=\u001b[0m\u001b[0mX\u001b[0m\u001b[0;34m,\u001b[0m\u001b[0mZ\u001b[0m\u001b[0;34m=\u001b[0m\u001b[0mZ\u001b[0m\u001b[0;34m,\u001b[0m\u001b[0mY\u001b[0m\u001b[0;34m=\u001b[0m\u001b[0mY\u001b[0m\u001b[0;34m)\u001b[0m\u001b[0;34m\u001b[0m\u001b[0;34m\u001b[0m\u001b[0m\n\u001b[0m",
      "\u001b[0;32m<ipython-input-17-fb072ecd9459>\u001b[0m in \u001b[0;36mplotfitted\u001b[0;34m(fe_params, random_effects, X, Z, Y)\u001b[0m\n\u001b[1;32m     11\u001b[0m \u001b[0;34m\u001b[0m\u001b[0m\n\u001b[1;32m     12\u001b[0m     \u001b[0max3\u001b[0m\u001b[0;34m.\u001b[0m\u001b[0mplot\u001b[0m\u001b[0;34m(\u001b[0m\u001b[0mY\u001b[0m\u001b[0;34m.\u001b[0m\u001b[0mflatten\u001b[0m\u001b[0;34m(\u001b[0m\u001b[0;34m)\u001b[0m\u001b[0;34m,\u001b[0m\u001b[0;34m'o'\u001b[0m\u001b[0;34m,\u001b[0m\u001b[0mcolor\u001b[0m\u001b[0;34m=\u001b[0m\u001b[0;34m'k'\u001b[0m\u001b[0;34m,\u001b[0m\u001b[0mlabel\u001b[0m \u001b[0;34m=\u001b[0m \u001b[0;34m'Observed'\u001b[0m\u001b[0;34m,\u001b[0m \u001b[0malpha\u001b[0m\u001b[0;34m=\u001b[0m\u001b[0;36m.25\u001b[0m\u001b[0;34m)\u001b[0m\u001b[0;34m\u001b[0m\u001b[0;34m\u001b[0m\u001b[0m\n\u001b[0;32m---> 13\u001b[0;31m     \u001b[0;32mfor\u001b[0m \u001b[0miname\u001b[0m \u001b[0;32min\u001b[0m \u001b[0mfe_params\u001b[0m\u001b[0;34m.\u001b[0m\u001b[0mcolumns\u001b[0m\u001b[0;34m.\u001b[0m\u001b[0mget_values\u001b[0m\u001b[0;34m(\u001b[0m\u001b[0;34m)\u001b[0m\u001b[0;34m:\u001b[0m\u001b[0;34m\u001b[0m\u001b[0;34m\u001b[0m\u001b[0m\n\u001b[0m\u001b[1;32m     14\u001b[0m         \u001b[0mfitted\u001b[0m \u001b[0;34m=\u001b[0m \u001b[0mnp\u001b[0m\u001b[0;34m.\u001b[0m\u001b[0mdot\u001b[0m\u001b[0;34m(\u001b[0m\u001b[0mX\u001b[0m\u001b[0;34m,\u001b[0m\u001b[0mfe_params\u001b[0m\u001b[0;34m[\u001b[0m\u001b[0miname\u001b[0m\u001b[0;34m]\u001b[0m\u001b[0;34m)\u001b[0m\u001b[0;34m+\u001b[0m\u001b[0mnp\u001b[0m\u001b[0;34m.\u001b[0m\u001b[0mdot\u001b[0m\u001b[0;34m(\u001b[0m\u001b[0mZ\u001b[0m\u001b[0;34m,\u001b[0m\u001b[0mrandom_effects\u001b[0m\u001b[0;34m[\u001b[0m\u001b[0miname\u001b[0m\u001b[0;34m]\u001b[0m\u001b[0;34m)\u001b[0m\u001b[0;34m.\u001b[0m\u001b[0mflatten\u001b[0m\u001b[0;34m(\u001b[0m\u001b[0;34m)\u001b[0m\u001b[0;34m\u001b[0m\u001b[0;34m\u001b[0m\u001b[0m\n\u001b[1;32m     15\u001b[0m         \u001b[0mprint\u001b[0m\u001b[0;34m(\u001b[0m\u001b[0;34m\"The MSE of \"\u001b[0m\u001b[0;34m+\u001b[0m\u001b[0miname\u001b[0m\u001b[0;34m+\u001b[0m \u001b[0;34m\" is \"\u001b[0m \u001b[0;34m+\u001b[0m \u001b[0mstr\u001b[0m\u001b[0;34m(\u001b[0m\u001b[0mnp\u001b[0m\u001b[0;34m.\u001b[0m\u001b[0mmean\u001b[0m\u001b[0;34m(\u001b[0m\u001b[0mnp\u001b[0m\u001b[0;34m.\u001b[0m\u001b[0msquare\u001b[0m\u001b[0;34m(\u001b[0m\u001b[0mY\u001b[0m\u001b[0;34m.\u001b[0m\u001b[0mflatten\u001b[0m\u001b[0;34m(\u001b[0m\u001b[0;34m)\u001b[0m\u001b[0;34m-\u001b[0m\u001b[0mfitted\u001b[0m\u001b[0;34m)\u001b[0m\u001b[0;34m)\u001b[0m\u001b[0;34m)\u001b[0m\u001b[0;34m)\u001b[0m\u001b[0;34m\u001b[0m\u001b[0;34m\u001b[0m\u001b[0m\n",
      "\u001b[0;31mAttributeError\u001b[0m: 'Index' object has no attribute 'get_values'"
     ]
    },
    {
     "data": {
      "image/png": "[encoded data removed]",
      "text/plain": [
       "<Figure size 1296x648 with 3 Axes>"
      ]
     },
     "metadata": {
      "needs_background": "light"
     },
     "output_type": "display_data"
    }
   ],
   "source": [
    "#%% ploting function \n",
    "import matplotlib.pyplot as plt\n",
    "def plotfitted(fe_params=fe_params,random_effects=random_effects,X=X,Z=Z,Y=Y):\n",
    "    plt.figure(figsize=(18,9))\n",
    "    ax1 = plt.subplot2grid((2,2), (0, 0))\n",
    "    ax2 = plt.subplot2grid((2,2), (0, 1))\n",
    "    ax3 = plt.subplot2grid((2,2), (1, 0), colspan=2)\n",
    "    \n",
    "    fe_params.plot(ax=ax1)\n",
    "    random_effects.plot(ax=ax2)\n",
    "    \n",
    "    ax3.plot(Y.flatten(),'o',color='k',label = 'Observed', alpha=.25)\n",
    "    for iname in fe_params.columns.get_values():\n",
    "        fitted = np.dot(X,fe_params[iname])+np.dot(Z,random_effects[iname]).flatten()\n",
    "        print(\"The MSE of \"+iname+ \" is \" + str(np.mean(np.square(Y.flatten()-fitted))))\n",
    "        ax3.plot(fitted,lw=1,label = iname, alpha=.5)\n",
    "    ax3.legend(loc=0)\n",
    "    #plt.ylim([0,5])\n",
    "    plt.show()\n",
    "\n",
    "plotfitted(fe_params=fe_params,random_effects=random_effects,X=X,Z=Z,Y=Y)"
   ]
  },
  {
   "cell_type": "code",
   "execution_count": null,
   "metadata": {},
   "outputs": [],
   "source": []
  }
 ],
 "metadata": {
  "kernelspec": {
   "display_name": "Python 3",
   "language": "python",
   "name": "python3"
  },
  "language_info": {
   "codemirror_mode": {
    "name": "ipython",
    "version": 3
   },
   "file_extension": ".py",
   "mimetype": "text/x-python",
   "name": "python",
   "nbconvert_exporter": "python",
   "pygments_lexer": "ipython3",
   "version": "3.7.6"
  }
 },
 "nbformat": 4,
 "nbformat_minor": 4
}
